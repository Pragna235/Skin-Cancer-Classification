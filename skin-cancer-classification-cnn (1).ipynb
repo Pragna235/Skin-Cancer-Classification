{
 "cells": [
  {
   "cell_type": "code",
   "execution_count": 1,
   "metadata": {
    "id": "JuKSi3EJyGb-"
   },
   "outputs": [
    {
     "name": "stderr",
     "output_type": "stream",
     "text": [
      "2024-06-21 05:25:42.346681: E external/local_xla/xla/stream_executor/cuda/cuda_dnn.cc:9373] Unable to register cuDNN factory: Attempting to register factory for plugin cuDNN when one has already been registered\n",
      "2024-06-21 05:25:42.346749: E external/local_xla/xla/stream_executor/cuda/cuda_fft.cc:607] Unable to register cuFFT factory: Attempting to register factory for plugin cuFFT when one has already been registered\n",
      "2024-06-21 05:25:42.347776: E external/local_xla/xla/stream_executor/cuda/cuda_blas.cc:1534] Unable to register cuBLAS factory: Attempting to register factory for plugin cuBLAS when one has already been registered\n",
      "2024-06-21 05:25:42.356255: I tensorflow/core/platform/cpu_feature_guard.cc:183] This TensorFlow binary is optimized to use available CPU instructions in performance-critical operations.\n",
      "To enable the following instructions: SSE3 SSE4.1 SSE4.2 AVX, in other operations, rebuild TensorFlow with the appropriate compiler flags.\n"
     ]
    }
   ],
   "source": [
    "import keras\n",
    "import numpy as np\n",
    "from keras import Input\n",
    "from keras import models\n",
    "from keras import layers\n",
    "from keras import optimizers\n",
    "from keras.models import Model\n",
    "from keras import applications\n",
    "from keras import backend as k\n",
    "import matplotlib.pyplot as plt\n",
    "from keras.optimizers import SGD, Adam\n",
    "from keras.layers import  Dense, Flatten, Conv2D, MaxPooling2D\n",
    "from keras.preprocessing import image\n",
    "from keras.models import Sequential, Model\n",
    "from keras.preprocessing.image import ImageDataGenerator\n",
    "from keras.layers import Dropout, Flatten, Dense, GlobalAveragePooling2D\n",
    "from keras.callbacks import ModelCheckpoint, LearningRateScheduler, TensorBoard, EarlyStopping"
   ]
  },
  {
   "cell_type": "markdown",
   "metadata": {
    "id": "fHnd3rrLLql4"
   },
   "source": [
    "# **Loading the Training and Testing Data and Defining the Basic Parameters**\n",
    "* We are resizing the input image to 256 * 256"
   ]
  },
  {
   "cell_type": "code",
   "execution_count": 2,
   "metadata": {},
   "outputs": [],
   "source": [
    "import os\n",
    "import shutil\n",
    "\n",
    "def filter_jpg_files(src_dir, dest_dir):\n",
    "    if not os.path.exists(dest_dir):\n",
    "        os.makedirs(dest_dir)\n",
    "    \n",
    "    for root, _, files in os.walk(src_dir):\n",
    "        for file in files:\n",
    "            if file.lower().endswith('.jpg'):\n",
    "                src_file_path = os.path.join(root, file)\n",
    "                dest_file_path = os.path.join(dest_dir, os.path.relpath(src_file_path, src_dir))\n",
    "                dest_file_dir = os.path.dirname(dest_file_path)\n",
    "                if not os.path.exists(dest_file_dir):\n",
    "                    os.makedirs(dest_file_dir)\n",
    "                shutil.copy2(src_file_path, dest_file_path)\n",
    "\n",
    "# Paths to your original and filtered datasets\n",
    "train_src_dir = '/workspace/Usrf/day6/data/Skin_Data/Train'\n",
    "test_src_dir = '/workspace/Usrf/day6/data/Skin_Data/Test'\n",
    "train_dest_dir = '/workspace/Usrf/day6/data/Skin_Data/Filtered_Train'\n",
    "test_dest_dir = '/workspace/Usrf/day6/data/Skin_Data/Filtered_Test'\n",
    "\n",
    "filter_jpg_files(train_src_dir, train_dest_dir)\n",
    "filter_jpg_files(test_src_dir, test_dest_dir)"
   ]
  },
  {
   "cell_type": "code",
   "execution_count": 3,
   "metadata": {
    "colab": {
     "base_uri": "https://localhost:8080/"
    },
    "executionInfo": {
     "elapsed": 2,
     "status": "ok",
     "timestamp": 1684217213614,
     "user": {
      "displayName": "KARNATI MOHAN",
      "userId": "16604712269571437600"
     },
     "user_tz": -330
    },
    "id": "PyYRaHdLavO2",
    "outputId": "d64f4e2a-f559-48cb-8ed3-34a0ee42a626"
   },
   "outputs": [
    {
     "name": "stdout",
     "output_type": "stream",
     "text": [
      "Found 84 images belonging to 2 classes.\n",
      "Found 204 images belonging to 2 classes.\n"
     ]
    }
   ],
   "source": [
    "from tensorflow.keras.preprocessing.image import ImageDataGenerator\n",
    "\n",
    "# Create ImageDataGenerator instances for training, validation, and testing\n",
    "train_datagen = ImageDataGenerator(rescale=1./255)\n",
    "validation_datagen = ImageDataGenerator(rescale=1./255)\n",
    "test_datagen = ImageDataGenerator(rescale=1./255)\n",
    "\n",
    "# Define the paths for filtered training and test data\n",
    "train_data_path = '/workspace/Usrf/day6/data/Skin_Data/Filtered_Train'\n",
    "test_data_path = '/workspace/Usrf/day6/data/Skin_Data/Filtered_Test'\n",
    "\n",
    "# Read the training data and set the batch size\n",
    "train_generator = train_datagen.flow_from_directory(\n",
    "        train_data_path,\n",
    "        target_size=(256, 256),\n",
    "        batch_size=8,\n",
    "        class_mode='binary',\n",
    "        shuffle=True)  # It is usually a good idea to shuffle the training data\n",
    "\n",
    "# Read the test data and set the batch size\n",
    "test_generator = test_datagen.flow_from_directory(\n",
    "        test_data_path,\n",
    "        target_size=(256, 256),\n",
    "        batch_size=1,\n",
    "        class_mode='binary',\n",
    "        shuffle=False)  # No need to shuffle test data"
   ]
  },
  {
   "cell_type": "code",
   "execution_count": 4,
   "metadata": {
    "colab": {
     "base_uri": "https://localhost:8080/"
    },
    "executionInfo": {
     "elapsed": 2,
     "status": "ok",
     "timestamp": 1684215716682,
     "user": {
      "displayName": "KARNATI MOHAN",
      "userId": "16604712269571437600"
     },
     "user_tz": -330
    },
    "id": "AheZPiNC6ZwZ",
    "outputId": "8c8986ee-1d00-4102-c2d2-1a06c729ad19"
   },
   "outputs": [
    {
     "data": {
      "text/plain": [
       "(256, 256, 3)"
      ]
     },
     "execution_count": 4,
     "metadata": {},
     "output_type": "execute_result"
    }
   ],
   "source": [
    "img, label = test_generator.next()\n",
    "img[0].shape"
   ]
  },
  {
   "cell_type": "code",
   "execution_count": 5,
   "metadata": {},
   "outputs": [
    {
     "name": "stderr",
     "output_type": "stream",
     "text": [
      "2024-06-21 05:25:45.104639: I tensorflow/core/common_runtime/gpu/gpu_device.cc:1926] Created device /job:localhost/replica:0/task:0/device:GPU:0 with 17947 MB memory:  -> device: 0, name: NVIDIA A100-SXM4-40GB MIG 3g.20gb, pci bus id: 0000:b7:00.0, compute capability: 8.0\n"
     ]
    }
   ],
   "source": [
    "model=Sequential()\n",
    "model.add(Input(shape=(256,256,3)))\n",
    "\n",
    "model.add(Conv2D(32,kernel_size=(3,3),activation='relu'))\n",
    "model.add(MaxPooling2D(pool_size=(2,2)))\n",
    "model.add(Conv2D(64,kernel_size=(3,3),activation='relu'))\n",
    "model.add(MaxPooling2D(pool_size=(2,2)))\n",
    "\n",
    "model.add(Flatten())\n",
    "model.add(Dense(128))\n",
    "model.add(Dense(2, activation='softmax'))\n",
    "\n",
    "model.compile(optimizer='adam',loss='sparse_categorical_crossentropy',metrics=['accuracy'])"
   ]
  },
  {
   "cell_type": "code",
   "execution_count": 6,
   "metadata": {
    "scrolled": true
   },
   "outputs": [
    {
     "name": "stdout",
     "output_type": "stream",
     "text": [
      "Epoch 1/30\n"
     ]
    },
    {
     "name": "stderr",
     "output_type": "stream",
     "text": [
      "2024-06-21 05:25:46.229104: I external/local_xla/xla/stream_executor/cuda/cuda_dnn.cc:467] Loaded cuDNN version 90100\n",
      "2024-06-21 05:25:46.639241: I external/local_xla/xla/service/service.cc:168] XLA service 0x7f70488458e0 initialized for platform CUDA (this does not guarantee that XLA will be used). Devices:\n",
      "2024-06-21 05:25:46.639296: I external/local_xla/xla/service/service.cc:176]   StreamExecutor device (0): NVIDIA A100-SXM4-40GB MIG 3g.20gb, Compute Capability 8.0\n",
      "2024-06-21 05:25:46.645941: I tensorflow/compiler/mlir/tensorflow/utils/dump_mlir_util.cc:269] disabling MLIR crash reproducer, set env var `MLIR_CRASH_REPRODUCER_DIRECTORY` to enable.\n",
      "WARNING: All log messages before absl::InitializeLog() is called are written to STDERR\n",
      "I0000 00:00:1718947546.765970   76072 device_compiler.h:186] Compiled cluster using XLA!  This line is logged at most once for the lifetime of the process.\n"
     ]
    },
    {
     "name": "stdout",
     "output_type": "stream",
     "text": [
      "10/10 [==============================] - 3s 73ms/step - loss: 11.7864 - accuracy: 0.5119\n",
      "Epoch 2/30\n",
      "10/10 [==============================] - 0s 35ms/step - loss: 0.7110 - accuracy: 0.5119\n",
      "Epoch 3/30\n",
      "10/10 [==============================] - 0s 16ms/step - loss: 0.5446 - accuracy: 0.7381\n",
      "Epoch 4/30\n",
      "10/10 [==============================] - 0s 14ms/step - loss: 0.4470 - accuracy: 0.7738\n",
      "Epoch 5/30\n",
      "10/10 [==============================] - 0s 17ms/step - loss: 0.2865 - accuracy: 0.9286\n",
      "Epoch 6/30\n",
      "10/10 [==============================] - 0s 14ms/step - loss: 0.3404 - accuracy: 0.8929\n",
      "Epoch 7/30\n",
      "10/10 [==============================] - 0s 15ms/step - loss: 0.3063 - accuracy: 0.9286\n",
      "Epoch 8/30\n",
      "10/10 [==============================] - 0s 23ms/step - loss: 0.1881 - accuracy: 0.9167\n",
      "Epoch 9/30\n",
      "10/10 [==============================] - 0s 16ms/step - loss: 0.1706 - accuracy: 0.9643\n",
      "Epoch 10/30\n",
      "10/10 [==============================] - 0s 19ms/step - loss: 0.1484 - accuracy: 0.9286\n",
      "Epoch 11/30\n",
      "10/10 [==============================] - 0s 19ms/step - loss: 0.1245 - accuracy: 0.9881\n",
      "Epoch 12/30\n",
      "10/10 [==============================] - 0s 17ms/step - loss: 0.1998 - accuracy: 0.9167\n",
      "Epoch 13/30\n",
      "10/10 [==============================] - 0s 15ms/step - loss: 0.1102 - accuracy: 0.9643\n",
      "Epoch 14/30\n",
      "10/10 [==============================] - 0s 21ms/step - loss: 0.1004 - accuracy: 0.9643\n",
      "Epoch 15/30\n",
      "10/10 [==============================] - 0s 15ms/step - loss: 0.2485 - accuracy: 0.9167\n",
      "Epoch 16/30\n",
      "10/10 [==============================] - 0s 17ms/step - loss: 0.0769 - accuracy: 0.9643\n",
      "Epoch 17/30\n",
      "10/10 [==============================] - 0s 15ms/step - loss: 0.0692 - accuracy: 0.9762\n",
      "Epoch 18/30\n",
      "10/10 [==============================] - 0s 13ms/step - loss: 0.0920 - accuracy: 0.9881\n",
      "Epoch 19/30\n",
      "10/10 [==============================] - 0s 21ms/step - loss: 0.1150 - accuracy: 0.9643\n",
      "Epoch 20/30\n",
      "10/10 [==============================] - 0s 17ms/step - loss: 0.0980 - accuracy: 0.9762\n",
      "Epoch 21/30\n",
      "10/10 [==============================] - 0s 16ms/step - loss: 0.0203 - accuracy: 1.0000\n",
      "Epoch 22/30\n",
      "10/10 [==============================] - 0s 16ms/step - loss: 0.0106 - accuracy: 1.0000\n",
      "Epoch 23/30\n",
      "10/10 [==============================] - 0s 15ms/step - loss: 0.0100 - accuracy: 1.0000\n",
      "Epoch 24/30\n",
      "10/10 [==============================] - 0s 16ms/step - loss: 0.0033 - accuracy: 1.0000\n",
      "Epoch 25/30\n",
      "10/10 [==============================] - 0s 25ms/step - loss: 0.0028 - accuracy: 1.0000\n",
      "Epoch 26/30\n",
      "10/10 [==============================] - 0s 17ms/step - loss: 0.0014 - accuracy: 1.0000\n",
      "Epoch 27/30\n",
      "10/10 [==============================] - 0s 14ms/step - loss: 0.0013 - accuracy: 1.0000\n",
      "Epoch 28/30\n",
      "10/10 [==============================] - 0s 16ms/step - loss: 9.7197e-04 - accuracy: 1.0000\n",
      "Epoch 29/30\n",
      "10/10 [==============================] - 0s 15ms/step - loss: 8.7629e-04 - accuracy: 1.0000\n",
      "Epoch 30/30\n",
      "10/10 [==============================] - 0s 19ms/step - loss: 7.9380e-04 - accuracy: 1.0000\n"
     ]
    }
   ],
   "source": [
    "history = model.fit(train_generator,\n",
    "      steps_per_epoch=train_generator.samples/train_generator.batch_size,\n",
    "      epochs=30,\n",
    "      verbose=1)"
   ]
  },
  {
   "cell_type": "code",
   "execution_count": 7,
   "metadata": {},
   "outputs": [
    {
     "name": "stderr",
     "output_type": "stream",
     "text": [
      "/usr/local/lib/python3.10/dist-packages/keras/src/engine/training.py:3103: UserWarning: You are saving your model as an HDF5 file via `model.save()`. This file format is considered legacy. We recommend using instead the native Keras format, e.g. `model.save('my_model.keras')`.\n",
      "  saving_api.save_model(\n"
     ]
    }
   ],
   "source": [
    "model.save(\"skin_cancer_model.h5\")"
   ]
  },
  {
   "cell_type": "code",
   "execution_count": 8,
   "metadata": {},
   "outputs": [
    {
     "name": "stderr",
     "output_type": "stream",
     "text": [
      "/tmp/ipykernel_74891/461992945.py:14: UserWarning: `Model.predict_generator` is deprecated and will be removed in a future version. Please use `Model.predict`, which supports generators.\n",
      "  predictions = model.predict_generator(test_generator, steps=test_generator.samples/test_generator.batch_size,verbose=1)\n"
     ]
    },
    {
     "name": "stdout",
     "output_type": "stream",
     "text": [
      "204/204 [==============================] - 1s 2ms/step\n",
      "No of errors = 48/204\n"
     ]
    }
   ],
   "source": [
    "# Get the filenames from the generator\n",
    "fnames = test_generator.filenames\n",
    "\n",
    "# Get the ground truth from generator\n",
    "ground_truth = test_generator.classes\n",
    "\n",
    "# Get the label to class mapping from the generator\n",
    "label2index = test_generator.class_indices\n",
    "\n",
    "# Getting the mapping from class index to class label\n",
    "idx2label = dict((v,k) for k,v in label2index.items())\n",
    "\n",
    "# Get the predictions from the model using the generator\n",
    "predictions = model.predict_generator(test_generator, steps=test_generator.samples/test_generator.batch_size,verbose=1)\n",
    "predicted_classes = np.argmax(predictions,axis=1)\n",
    "\n",
    "errors = np.where(predicted_classes != ground_truth)[0]\n",
    "print(\"No of errors = {}/{}\".format(len(errors),test_generator.samples))\n"
   ]
  },
  {
   "cell_type": "code",
   "execution_count": 9,
   "metadata": {},
   "outputs": [
    {
     "data": {
      "text/plain": [
       "76.47058823529412"
      ]
     },
     "execution_count": 9,
     "metadata": {},
     "output_type": "execute_result"
    }
   ],
   "source": [
    "accuracy = ((test_generator.samples-len(errors))/test_generator.samples) * 100\n",
    "accuracy"
   ]
  },
  {
   "cell_type": "code",
   "execution_count": 10,
   "metadata": {},
   "outputs": [
    {
     "data": {
      "image/png": "[encoded data removed]",
      "text/plain": [
       "<Figure size 500x400 with 2 Axes>"
      ]
     },
     "metadata": {},
     "output_type": "display_data"
    }
   ],
   "source": [
    "from sklearn.metrics import confusion_matrix\n",
    "import seaborn as sns\n",
    "import numpy as np\n",
    "from matplotlib import pyplot as plt\n",
    "cm = confusion_matrix(y_true=ground_truth, y_pred=predicted_classes)\n",
    "cm = np.array(cm)\n",
    "# Normalise\n",
    "cmn = cm.astype('float') / cm.sum(axis=1)[:, np.newaxis]\n",
    "fig, ax = plt.subplots(figsize=(5,4))\n",
    "sns.heatmap(cmn, annot=True, fmt='.2f', xticklabels=label2index, yticklabels=label2index, cmap=\"YlGnBu\")\n",
    "plt.ylabel('Actual', fontsize=15)\n",
    "plt.xlabel('Predicted', fontsize=15)\n",
    "plt.show(block=False)"
   ]
  },
  {
   "cell_type": "markdown",
   "metadata": {
    "id": "BiJvRIxN5P9D"
   },
   "source": [
    "# **Exploring Keras Applications for Transfer Learning**"
   ]
  },
  {
   "cell_type": "markdown",
   "metadata": {
    "id": "btHo6pJ_7H-K"
   },
   "source": [
    "## **VGG16**"
   ]
  },
  {
   "cell_type": "code",
   "execution_count": 11,
   "metadata": {
    "colab": {
     "base_uri": "https://localhost:8080/"
    },
    "executionInfo": {
     "elapsed": 2618,
     "status": "ok",
     "timestamp": 1684216137880,
     "user": {
      "displayName": "KARNATI MOHAN",
      "userId": "16604712269571437600"
     },
     "user_tz": -330
    },
    "id": "hANcs-MT5mCz",
    "outputId": "1330613e-7f74-4fdd-910c-4418b696e39b"
   },
   "outputs": [
    {
     "name": "stdout",
     "output_type": "stream",
     "text": [
      "Model: \"vgg16\"\n",
      "_________________________________________________________________\n",
      " Layer (type)                Output Shape              Param #   \n",
      "=================================================================\n",
      " input_2 (InputLayer)        [(None, 256, 256, 3)]     0         \n",
      "                                                                 \n",
      " block1_conv1 (Conv2D)       (None, 256, 256, 64)      1792      \n",
      "                                                                 \n",
      " block1_conv2 (Conv2D)       (None, 256, 256, 64)      36928     \n",
      "                                                                 \n",
      " block1_pool (MaxPooling2D)  (None, 128, 128, 64)      0         \n",
      "                                                                 \n",
      " block2_conv1 (Conv2D)       (None, 128, 128, 128)     73856     \n",
      "                                                                 \n",
      " block2_conv2 (Conv2D)       (None, 128, 128, 128)     147584    \n",
      "                                                                 \n",
      " block2_pool (MaxPooling2D)  (None, 64, 64, 128)       0         \n",
      "                                                                 \n",
      " block3_conv1 (Conv2D)       (None, 64, 64, 256)       295168    \n",
      "                                                                 \n",
      " block3_conv2 (Conv2D)       (None, 64, 64, 256)       590080    \n",
      "                                                                 \n",
      " block3_conv3 (Conv2D)       (None, 64, 64, 256)       590080    \n",
      "                                                                 \n",
      " block3_pool (MaxPooling2D)  (None, 32, 32, 256)       0         \n",
      "                                                                 \n",
      " block4_conv1 (Conv2D)       (None, 32, 32, 512)       1180160   \n",
      "                                                                 \n",
      " block4_conv2 (Conv2D)       (None, 32, 32, 512)       2359808   \n",
      "                                                                 \n",
      " block4_conv3 (Conv2D)       (None, 32, 32, 512)       2359808   \n",
      "                                                                 \n",
      " block4_pool (MaxPooling2D)  (None, 16, 16, 512)       0         \n",
      "                                                                 \n",
      " block5_conv1 (Conv2D)       (None, 16, 16, 512)       2359808   \n",
      "                                                                 \n",
      " block5_conv2 (Conv2D)       (None, 16, 16, 512)       2359808   \n",
      "                                                                 \n",
      " block5_conv3 (Conv2D)       (None, 16, 16, 512)       2359808   \n",
      "                                                                 \n",
      " block5_pool (MaxPooling2D)  (None, 8, 8, 512)         0         \n",
      "                                                                 \n",
      "=================================================================\n",
      "Total params: 14714688 (56.13 MB)\n",
      "Trainable params: 0 (0.00 Byte)\n",
      "Non-trainable params: 14714688 (56.13 MB)\n",
      "_________________________________________________________________\n"
     ]
    }
   ],
   "source": [
    "from tensorflow.keras.applications.vgg16 import VGG16\n",
    "\n",
    "## Loading VGG16 model\n",
    "base_model = VGG16(weights=\"imagenet\", include_top=False, input_shape= (256, 256, 3)) # Include_top = False means excluding the model fully connected layers\n",
    "base_model.trainable = False ## Not trainable weights\n",
    "\n",
    "base_model.summary()"
   ]
  },
  {
   "cell_type": "markdown",
   "metadata": {
    "id": "oQVsgppw8rSl"
   },
   "source": [
    "# **Adding top layers according to number of classes in our data**"
   ]
  },
  {
   "cell_type": "code",
   "execution_count": 12,
   "metadata": {
    "colab": {
     "base_uri": "https://localhost:8080/"
    },
    "executionInfo": {
     "elapsed": 639,
     "status": "ok",
     "timestamp": 1684216160822,
     "user": {
      "displayName": "KARNATI MOHAN",
      "userId": "16604712269571437600"
     },
     "user_tz": -330
    },
    "id": "1HcQlsbI6_eB",
    "outputId": "69643e21-b206-44d5-d82c-217e651441d5"
   },
   "outputs": [
    {
     "name": "stdout",
     "output_type": "stream",
     "text": [
      "Model: \"sequential_1\"\n",
      "_________________________________________________________________\n",
      " Layer (type)                Output Shape              Param #   \n",
      "=================================================================\n",
      " vgg16 (Functional)          (None, 8, 8, 512)         14714688  \n",
      "                                                                 \n",
      " dense_2 (Dense)             (None, 8, 8, 63)          32319     \n",
      "                                                                 \n",
      " dense_3 (Dense)             (None, 8, 8, 32)          2048      \n",
      "                                                                 \n",
      " global_average_pooling2d (  (None, 32)                0         \n",
      " GlobalAveragePooling2D)                                         \n",
      "                                                                 \n",
      " dense_4 (Dense)             (None, 2)                 66        \n",
      "                                                                 \n",
      "=================================================================\n",
      "Total params: 14749121 (56.26 MB)\n",
      "Trainable params: 34433 (134.50 KB)\n",
      "Non-trainable params: 14714688 (56.13 MB)\n",
      "_________________________________________________________________\n"
     ]
    }
   ],
   "source": [
    "flatten_layer = layers.GlobalAveragePooling2D()\n",
    "dense_layer_1 = layers.Dense(63, activation='relu')\n",
    "dense_layer_2 = layers.Dense(32, activation='relu')\n",
    "prediction_layer = layers.Dense(2, activation='softmax')\n",
    "\n",
    "model = models.Sequential([\n",
    "    base_model,\n",
    "    dense_layer_1,\n",
    "    dense_layer_2,\n",
    "    flatten_layer,\n",
    "    prediction_layer\n",
    "])\n",
    "\n",
    "model.summary()"
   ]
  },
  {
   "cell_type": "markdown",
   "metadata": {
    "id": "V5D4zLWQ8qd8"
   },
   "source": [
    "# **Training**"
   ]
  },
  {
   "cell_type": "code",
   "execution_count": 13,
   "metadata": {
    "colab": {
     "base_uri": "https://localhost:8080/"
    },
    "executionInfo": {
     "elapsed": 281637,
     "status": "ok",
     "timestamp": 1684216449174,
     "user": {
      "displayName": "KARNATI MOHAN",
      "userId": "16604712269571437600"
     },
     "user_tz": -330
    },
    "id": "qg3w-8oa6_gR",
    "outputId": "4720e435-ee6d-4983-b21f-d5aa75ab7258",
    "scrolled": true
   },
   "outputs": [
    {
     "name": "stdout",
     "output_type": "stream",
     "text": [
      "Epoch 1/30\n",
      "10/10 [==============================] - 5s 192ms/step - loss: 0.7128 - acc: 0.5238\n",
      "Epoch 2/30\n",
      "10/10 [==============================] - 1s 64ms/step - loss: 0.6994 - acc: 0.5000\n",
      "Epoch 3/30\n",
      "10/10 [==============================] - 0s 18ms/step - loss: 0.6624 - acc: 0.6667\n",
      "Epoch 4/30\n",
      "10/10 [==============================] - 0s 19ms/step - loss: 0.6557 - acc: 0.5952\n",
      "Epoch 5/30\n",
      "10/10 [==============================] - 0s 17ms/step - loss: 0.6320 - acc: 0.6667\n",
      "Epoch 6/30\n",
      "10/10 [==============================] - 0s 18ms/step - loss: 0.6141 - acc: 0.7381\n",
      "Epoch 7/30\n",
      "10/10 [==============================] - 0s 23ms/step - loss: 0.5912 - acc: 0.7262\n",
      "Epoch 8/30\n",
      "10/10 [==============================] - 0s 18ms/step - loss: 0.5776 - acc: 0.7143\n",
      "Epoch 9/30\n",
      "10/10 [==============================] - 0s 17ms/step - loss: 0.5708 - acc: 0.7024\n",
      "Epoch 10/30\n",
      "10/10 [==============================] - 0s 18ms/step - loss: 0.5435 - acc: 0.7976\n",
      "Epoch 11/30\n",
      "10/10 [==============================] - 0s 24ms/step - loss: 0.5286 - acc: 0.7857\n",
      "Epoch 12/30\n",
      "10/10 [==============================] - 0s 19ms/step - loss: 0.5181 - acc: 0.7857\n",
      "Epoch 13/30\n",
      "10/10 [==============================] - 0s 20ms/step - loss: 0.4854 - acc: 0.8095\n",
      "Epoch 14/30\n",
      "10/10 [==============================] - 0s 19ms/step - loss: 0.4828 - acc: 0.7500\n",
      "Epoch 15/30\n",
      "10/10 [==============================] - 0s 19ms/step - loss: 0.5261 - acc: 0.7262\n",
      "Epoch 16/30\n",
      "10/10 [==============================] - 0s 20ms/step - loss: 0.4689 - acc: 0.8452\n",
      "Epoch 17/30\n",
      "10/10 [==============================] - 0s 20ms/step - loss: 0.4317 - acc: 0.8214\n",
      "Epoch 18/30\n",
      "10/10 [==============================] - 0s 17ms/step - loss: 0.4256 - acc: 0.8214\n",
      "Epoch 19/30\n",
      "10/10 [==============================] - 0s 17ms/step - loss: 0.4222 - acc: 0.7976\n",
      "Epoch 20/30\n",
      "10/10 [==============================] - 0s 17ms/step - loss: 0.3971 - acc: 0.8214\n",
      "Epoch 21/30\n",
      "10/10 [==============================] - 0s 22ms/step - loss: 0.4091 - acc: 0.8333\n",
      "Epoch 22/30\n",
      "10/10 [==============================] - 0s 17ms/step - loss: 0.3442 - acc: 0.8690\n",
      "Epoch 23/30\n",
      "10/10 [==============================] - 0s 20ms/step - loss: 0.3448 - acc: 0.8690\n",
      "Epoch 24/30\n",
      "10/10 [==============================] - 0s 21ms/step - loss: 0.3657 - acc: 0.8571\n",
      "Epoch 25/30\n",
      "10/10 [==============================] - 0s 17ms/step - loss: 0.3339 - acc: 0.8810\n",
      "Epoch 26/30\n",
      "10/10 [==============================] - 0s 18ms/step - loss: 0.3233 - acc: 0.8690\n",
      "Epoch 27/30\n",
      "10/10 [==============================] - 0s 22ms/step - loss: 0.3088 - acc: 0.8929\n",
      "Epoch 28/30\n",
      "10/10 [==============================] - 0s 19ms/step - loss: 0.2941 - acc: 0.8690\n",
      "Epoch 29/30\n",
      "10/10 [==============================] - 0s 18ms/step - loss: 0.2901 - acc: 0.8929\n",
      "Epoch 30/30\n",
      "10/10 [==============================] - 0s 18ms/step - loss: 0.2823 - acc: 0.8929\n"
     ]
    }
   ],
   "source": [
    "# We are going to use accuracy metrics and cross entropy loss as performance parameters\n",
    "model.compile(optimizer = Adam(learning_rate = 0.001), loss='sparse_categorical_crossentropy', metrics=['acc'])\n",
    "# Train the model\n",
    "history = model.fit(train_generator,\n",
    "      steps_per_epoch=train_generator.samples/train_generator.batch_size,\n",
    "      epochs=30,\n",
    "      verbose=1)"
   ]
  },
  {
   "cell_type": "markdown",
   "metadata": {
    "id": "mNlnbyvA-tQq"
   },
   "source": [
    "# **Saving the model**"
   ]
  },
  {
   "cell_type": "code",
   "execution_count": 14,
   "metadata": {
    "colab": {
     "base_uri": "https://localhost:8080/"
    },
    "executionInfo": {
     "elapsed": 20,
     "status": "ok",
     "timestamp": 1684216449175,
     "user": {
      "displayName": "KARNATI MOHAN",
      "userId": "16604712269571437600"
     },
     "user_tz": -330
    },
    "id": "UNr-4ev66_iU",
    "outputId": "04f47046-7446-47af-8b76-1967cf90b1a4"
   },
   "outputs": [
    {
     "name": "stdout",
     "output_type": "stream",
     "text": [
      "Saved model to disk\n"
     ]
    },
    {
     "name": "stderr",
     "output_type": "stream",
     "text": [
      "/usr/local/lib/python3.10/dist-packages/keras/src/engine/training.py:3103: UserWarning: You are saving your model as an HDF5 file via `model.save()`. This file format is considered legacy. We recommend using instead the native Keras format, e.g. `model.save('my_model.keras')`.\n",
      "  saving_api.save_model(\n"
     ]
    }
   ],
   "source": [
    "model.save(\"VGG16_plant_deseas.h5\")\n",
    "print(\"Saved model to disk\")"
   ]
  },
  {
   "cell_type": "markdown",
   "metadata": {
    "id": "mW434s0y-wZL"
   },
   "source": [
    "# **Loading the model**"
   ]
  },
  {
   "cell_type": "code",
   "execution_count": 15,
   "metadata": {
    "colab": {
     "base_uri": "https://localhost:8080/"
    },
    "executionInfo": {
     "elapsed": 10,
     "status": "ok",
     "timestamp": 1684216449176,
     "user": {
      "displayName": "KARNATI MOHAN",
      "userId": "16604712269571437600"
     },
     "user_tz": -330
    },
    "id": "lxLxfO_E-UJ7",
    "outputId": "3d7a6c31-a584-40db-b543-c9cb8b3eb926"
   },
   "outputs": [
    {
     "name": "stdout",
     "output_type": "stream",
     "text": [
      "Model is loaded\n"
     ]
    }
   ],
   "source": [
    "model = models.load_model('VGG16_plant_deseas.h5')\n",
    "print(\"Model is loaded\")"
   ]
  },
  {
   "cell_type": "markdown",
   "metadata": {
    "id": "86gT_Dju-2jJ"
   },
   "source": [
    "# **Saving the Weights**"
   ]
  },
  {
   "cell_type": "code",
   "execution_count": 16,
   "metadata": {
    "id": "zd1QS2yU-XCQ"
   },
   "outputs": [],
   "source": [
    "model.save_weights('cnn_classification.h5')"
   ]
  },
  {
   "cell_type": "markdown",
   "metadata": {
    "id": "7zZpqDbb-5dX"
   },
   "source": [
    "# **Loading the weights**"
   ]
  },
  {
   "cell_type": "code",
   "execution_count": 17,
   "metadata": {
    "id": "FPIDF9tX-XFq"
   },
   "outputs": [],
   "source": [
    "model.load_weights('cnn_classification.h5')"
   ]
  },
  {
   "cell_type": "markdown",
   "metadata": {
    "id": "n0o2y_gT_Cjy"
   },
   "source": [
    "# **Performance measure**"
   ]
  },
  {
   "cell_type": "code",
   "execution_count": 18,
   "metadata": {
    "colab": {
     "base_uri": "https://localhost:8080/"
    },
    "executionInfo": {
     "elapsed": 4256,
     "status": "ok",
     "timestamp": 1684216466880,
     "user": {
      "displayName": "KARNATI MOHAN",
      "userId": "16604712269571437600"
     },
     "user_tz": -330
    },
    "id": "w9Az0ym5-jbf",
    "outputId": "3057777e-14ae-49fa-afde-24d0910d3c42"
   },
   "outputs": [
    {
     "name": "stderr",
     "output_type": "stream",
     "text": [
      "/tmp/ipykernel_74891/461992945.py:14: UserWarning: `Model.predict_generator` is deprecated and will be removed in a future version. Please use `Model.predict`, which supports generators.\n",
      "  predictions = model.predict_generator(test_generator, steps=test_generator.samples/test_generator.batch_size,verbose=1)\n"
     ]
    },
    {
     "name": "stdout",
     "output_type": "stream",
     "text": [
      "204/204 [==============================] - 2s 5ms/step\n",
      "No of errors = 55/204\n"
     ]
    }
   ],
   "source": [
    "# Get the filenames from the generator\n",
    "fnames = test_generator.filenames\n",
    "\n",
    "# Get the ground truth from generator\n",
    "ground_truth = test_generator.classes\n",
    "\n",
    "# Get the label to class mapping from the generator\n",
    "label2index = test_generator.class_indices\n",
    "\n",
    "# Getting the mapping from class index to class label\n",
    "idx2label = dict((v,k) for k,v in label2index.items())\n",
    "\n",
    "# Get the predictions from the model using the generator\n",
    "predictions = model.predict_generator(test_generator, steps=test_generator.samples/test_generator.batch_size,verbose=1)\n",
    "predicted_classes = np.argmax(predictions,axis=1)\n",
    "\n",
    "errors = np.where(predicted_classes != ground_truth)[0]\n",
    "print(\"No of errors = {}/{}\".format(len(errors),test_generator.samples))\n"
   ]
  },
  {
   "cell_type": "code",
   "execution_count": 19,
   "metadata": {
    "colab": {
     "base_uri": "https://localhost:8080/"
    },
    "executionInfo": {
     "elapsed": 12,
     "status": "ok",
     "timestamp": 1684216466881,
     "user": {
      "displayName": "KARNATI MOHAN",
      "userId": "16604712269571437600"
     },
     "user_tz": -330
    },
    "id": "0DE67ci3Iv9c",
    "outputId": "778077e2-5516-4ef2-c533-11015bafcf58"
   },
   "outputs": [
    {
     "data": {
      "text/plain": [
       "73.0392156862745"
      ]
     },
     "execution_count": 19,
     "metadata": {},
     "output_type": "execute_result"
    }
   ],
   "source": [
    "accuracy = ((test_generator.samples-len(errors))/test_generator.samples) * 100\n",
    "accuracy"
   ]
  },
  {
   "cell_type": "code",
   "execution_count": 20,
   "metadata": {
    "colab": {
     "base_uri": "https://localhost:8080/",
     "height": 562
    },
    "executionInfo": {
     "elapsed": 10,
     "status": "ok",
     "timestamp": 1684216466882,
     "user": {
      "displayName": "KARNATI MOHAN",
      "userId": "16604712269571437600"
     },
     "user_tz": -330
    },
    "id": "vDoTCwsT-jdZ",
    "outputId": "acfc2949-5bf4-46d7-ec34-250c7e464a6f"
   },
   "outputs": [
    {
     "data": {
      "image/png": "[encoded data removed]",
      "text/plain": [
       "<Figure size 500x400 with 2 Axes>"
      ]
     },
     "metadata": {},
     "output_type": "display_data"
    }
   ],
   "source": [
    "from sklearn.metrics import confusion_matrix\n",
    "import seaborn as sns\n",
    "import numpy as np\n",
    "from matplotlib import pyplot as plt\n",
    "cm = confusion_matrix(y_true=ground_truth, y_pred=predicted_classes)\n",
    "cm = np.array(cm)\n",
    "# Normalise\n",
    "cmn = cm.astype('float') / cm.sum(axis=1)[:, np.newaxis]\n",
    "fig, ax = plt.subplots(figsize=(5,4))\n",
    "sns.heatmap(cmn, annot=True, fmt='.2f', xticklabels=label2index, yticklabels=label2index, cmap=\"YlGnBu\")\n",
    "plt.ylabel('Actual', fontsize=15)\n",
    "plt.xlabel('Predicted', fontsize=15)\n",
    "plt.show(block=False)"
   ]
  },
  {
   "cell_type": "code",
   "execution_count": 21,
   "metadata": {
    "colab": {
     "base_uri": "https://localhost:8080/"
    },
    "executionInfo": {
     "elapsed": 9,
     "status": "ok",
     "timestamp": 1684216466882,
     "user": {
      "displayName": "KARNATI MOHAN",
      "userId": "16604712269571437600"
     },
     "user_tz": -330
    },
    "id": "miprwgWd-jfs",
    "outputId": "6650ff22-d159-4278-c385-d190a5286659"
   },
   "outputs": [
    {
     "name": "stdout",
     "output_type": "stream",
     "text": [
      "              precision    recall  f1-score   support\n",
      "\n",
      "      Cancer       0.42      0.76      0.54        42\n",
      "  Non_Cancer       0.92      0.72      0.81       162\n",
      "\n",
      "    accuracy                           0.73       204\n",
      "   macro avg       0.67      0.74      0.67       204\n",
      "weighted avg       0.82      0.73      0.75       204\n",
      "\n"
     ]
    }
   ],
   "source": [
    "from sklearn.metrics import classification_report\n",
    "print(classification_report(ground_truth, predicted_classes, target_names=label2index))"
   ]
  },
  {
   "cell_type": "code",
   "execution_count": null,
   "metadata": {
    "id": "WaRgE0XsFy2v"
   },
   "outputs": [],
   "source": []
  },
  {
   "cell_type": "code",
   "execution_count": null,
   "metadata": {},
   "outputs": [],
   "source": []
  },
  {
   "cell_type": "code",
   "execution_count": null,
   "metadata": {},
   "outputs": [],
   "source": []
  },
  {
   "cell_type": "code",
   "execution_count": null,
   "metadata": {},
   "outputs": [],
   "source": []
  },
  {
   "cell_type": "code",
   "execution_count": null,
   "metadata": {},
   "outputs": [],
   "source": []
  },
  {
   "cell_type": "code",
   "execution_count": null,
   "metadata": {},
   "outputs": [],
   "source": []
  }
 ],
 "metadata": {
  "accelerator": "GPU",
  "colab": {
   "gpuType": "T4",
   "provenance": []
  },
  "gpuClass": "standard",
  "kernelspec": {
   "display_name": "Python 3 (ipykernel)",
   "language": "python",
   "name": "python3"
  },
  "language_info": {
   "codemirror_mode": {
    "name": "ipython",
    "version": 3
   },
   "file_extension": ".py",
   "mimetype": "text/x-python",
   "name": "python",
   "nbconvert_exporter": "python",
   "pygments_lexer": "ipython3",
   "version": "3.10.12"
  }
 },
 "nbformat": 4,
 "nbformat_minor": 4
}
