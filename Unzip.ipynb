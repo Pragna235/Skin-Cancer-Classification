import zipfile
import os
def unzip_dataset(zip_file_path, extraction_path):
    if not os.path.exists(extraction_path):
        os.makedirs(extraction_path)

    # Open the zip file
    with zipfile.ZipFile(zip_file_path, 'r') as zip_ref:
        zip_ref.extractall(extraction_path)

    print(f"Dataset successfully extracted to {extraction_path}")

# Example usage
zip_file_path = 'data.zip'
extraction_path = '/workspace/USRF/Day4/Data/'

unzip_dataset(zip_file_path, extraction_path)
